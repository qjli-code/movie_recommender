{
 "cells": [
  {
   "cell_type": "markdown",
   "id": "40a95ffd-4372-4e2c-9486-1967095f9ffe",
   "metadata": {},
   "source": [
    "## Collaborative filtering recommendation system"
   ]
  },
  {
   "cell_type": "markdown",
   "id": "14511670-bb27-4b4d-a8cf-df9e119f5f49",
   "metadata": {},
   "source": [
    "The primary assumption underlying collaborative filtering recommendation is personal tastes are correlated. For example, if both person A and person B likes items X and Y (which means they probably have similar tastes), then if person B also likes item Z, it is likely for person A to like item Z as well."
   ]
  },
  {
   "cell_type": "markdown",
   "id": "569fa6b8-636b-45d6-9f22-ebce469e0576",
   "metadata": {},
   "source": [
    "In this task, we will use the matrix factorization based collaborative filtering approach. The user-item matrix will be decomposed into the product of two lower dimensionality rectangular metrices. By doing so, we represent users and items in a lower dimensional latent space. "
   ]
  },
  {
   "cell_type": "markdown",
   "id": "bc0864ca-8c17-43aa-884f-8e6506b1e641",
   "metadata": {},
   "source": [
    "The essential task is to predict ratings of unknown entries in the user-item matrix. Recommendations are then made based on those high ratings from our predictions."
   ]
  },
  {
   "cell_type": "code",
   "execution_count": 1,
   "id": "ee4ea4b2-eee1-4d46-a3ac-6c947d95e079",
   "metadata": {},
   "outputs": [
    {
     "name": "stderr",
     "output_type": "stream",
     "text": [
      "Using TensorFlow backend.\n"
     ]
    }
   ],
   "source": [
    "# imports\n",
    "\n",
    "import numpy as np\n",
    "import pandas as pd\n",
    "import matplotlib.pyplot as plt\n",
    "\n",
    "from sklearn.metrics import mean_squared_error\n",
    "from sklearn.metrics.pairwise import cosine_similarity\n",
    "from sklearn.feature_extraction.text import TfidfVectorizer\n",
    "\n",
    "import tensorflow as tf\n",
    "import keras\n",
    "\n",
    "from keras.layers import Input, Embedding, Reshape, Dot, Concatenate, Dense, Dropout\n",
    "from keras.models import Model\n",
    "\n",
    "from scipy.sparse import vstack"
   ]
  },
  {
   "cell_type": "code",
   "execution_count": 2,
   "id": "209b6531-3315-43d0-9caa-8fd5e6899ea2",
   "metadata": {},
   "outputs": [],
   "source": [
    "# remove unnecessary TF logs\n",
    "import logging\n",
    "tf.get_logger().setLevel(logging.ERROR)"
   ]
  },
  {
   "cell_type": "code",
   "execution_count": 3,
   "id": "3bf85f15-f2f8-4911-b462-eeac94b08f0b",
   "metadata": {},
   "outputs": [
    {
     "name": "stdout",
     "output_type": "stream",
     "text": [
      "TF Version: 1.15.0\n",
      "Keras Version: 2.2.5\n"
     ]
    }
   ],
   "source": [
    "# check keras and TF version used\n",
    "print('TF Version:', tf.__version__)\n",
    "print('Keras Version:', keras.__version__)"
   ]
  },
  {
   "cell_type": "markdown",
   "id": "a961c640-ada9-4387-bbb7-05e0dfd112c4",
   "metadata": {},
   "source": [
    "## Load datasets"
   ]
  },
  {
   "cell_type": "code",
   "execution_count": 4,
   "id": "013b5391-f400-4e29-bf0e-aa2782a8a740",
   "metadata": {},
   "outputs": [
    {
     "data": {
      "text/html": [
       "<div>\n",
       "<style scoped>\n",
       "    .dataframe tbody tr th:only-of-type {\n",
       "        vertical-align: middle;\n",
       "    }\n",
       "\n",
       "    .dataframe tbody tr th {\n",
       "        vertical-align: top;\n",
       "    }\n",
       "\n",
       "    .dataframe thead th {\n",
       "        text-align: right;\n",
       "    }\n",
       "</style>\n",
       "<table border=\"1\" class=\"dataframe\">\n",
       "  <thead>\n",
       "    <tr style=\"text-align: right;\">\n",
       "      <th></th>\n",
       "      <th>movieId</th>\n",
       "      <th>title</th>\n",
       "      <th>genres</th>\n",
       "    </tr>\n",
       "  </thead>\n",
       "  <tbody>\n",
       "    <tr>\n",
       "      <th>0</th>\n",
       "      <td>1</td>\n",
       "      <td>Toy Story (1995)</td>\n",
       "      <td>Adventure|Animation|Children|Comedy|Fantasy</td>\n",
       "    </tr>\n",
       "    <tr>\n",
       "      <th>1</th>\n",
       "      <td>2</td>\n",
       "      <td>Jumanji (1995)</td>\n",
       "      <td>Adventure|Children|Fantasy</td>\n",
       "    </tr>\n",
       "    <tr>\n",
       "      <th>2</th>\n",
       "      <td>3</td>\n",
       "      <td>Grumpier Old Men (1995)</td>\n",
       "      <td>Comedy|Romance</td>\n",
       "    </tr>\n",
       "    <tr>\n",
       "      <th>3</th>\n",
       "      <td>4</td>\n",
       "      <td>Waiting to Exhale (1995)</td>\n",
       "      <td>Comedy|Drama|Romance</td>\n",
       "    </tr>\n",
       "    <tr>\n",
       "      <th>4</th>\n",
       "      <td>5</td>\n",
       "      <td>Father of the Bride Part II (1995)</td>\n",
       "      <td>Comedy</td>\n",
       "    </tr>\n",
       "  </tbody>\n",
       "</table>\n",
       "</div>"
      ],
      "text/plain": [
       "   movieId                               title  \\\n",
       "0        1                    Toy Story (1995)   \n",
       "1        2                      Jumanji (1995)   \n",
       "2        3             Grumpier Old Men (1995)   \n",
       "3        4            Waiting to Exhale (1995)   \n",
       "4        5  Father of the Bride Part II (1995)   \n",
       "\n",
       "                                        genres  \n",
       "0  Adventure|Animation|Children|Comedy|Fantasy  \n",
       "1                   Adventure|Children|Fantasy  \n",
       "2                               Comedy|Romance  \n",
       "3                         Comedy|Drama|Romance  \n",
       "4                                       Comedy  "
      ]
     },
     "execution_count": 4,
     "metadata": {},
     "output_type": "execute_result"
    }
   ],
   "source": [
    "movies_df = pd.read_csv('./datasets/ml-latest-small/movies.csv')\n",
    "movies_df.head(5)"
   ]
  },
  {
   "cell_type": "code",
   "execution_count": 5,
   "id": "9c5fddba-3b65-4035-9cb1-44579312caf8",
   "metadata": {},
   "outputs": [
    {
     "data": {
      "text/html": [
       "<div>\n",
       "<style scoped>\n",
       "    .dataframe tbody tr th:only-of-type {\n",
       "        vertical-align: middle;\n",
       "    }\n",
       "\n",
       "    .dataframe tbody tr th {\n",
       "        vertical-align: top;\n",
       "    }\n",
       "\n",
       "    .dataframe thead th {\n",
       "        text-align: right;\n",
       "    }\n",
       "</style>\n",
       "<table border=\"1\" class=\"dataframe\">\n",
       "  <thead>\n",
       "    <tr style=\"text-align: right;\">\n",
       "      <th></th>\n",
       "      <th>userId</th>\n",
       "      <th>movieId</th>\n",
       "      <th>rating</th>\n",
       "      <th>timestamp</th>\n",
       "    </tr>\n",
       "  </thead>\n",
       "  <tbody>\n",
       "    <tr>\n",
       "      <th>0</th>\n",
       "      <td>1</td>\n",
       "      <td>1</td>\n",
       "      <td>4.0</td>\n",
       "      <td>964982703</td>\n",
       "    </tr>\n",
       "    <tr>\n",
       "      <th>1</th>\n",
       "      <td>1</td>\n",
       "      <td>3</td>\n",
       "      <td>4.0</td>\n",
       "      <td>964981247</td>\n",
       "    </tr>\n",
       "    <tr>\n",
       "      <th>2</th>\n",
       "      <td>1</td>\n",
       "      <td>6</td>\n",
       "      <td>4.0</td>\n",
       "      <td>964982224</td>\n",
       "    </tr>\n",
       "    <tr>\n",
       "      <th>3</th>\n",
       "      <td>1</td>\n",
       "      <td>47</td>\n",
       "      <td>5.0</td>\n",
       "      <td>964983815</td>\n",
       "    </tr>\n",
       "    <tr>\n",
       "      <th>4</th>\n",
       "      <td>1</td>\n",
       "      <td>50</td>\n",
       "      <td>5.0</td>\n",
       "      <td>964982931</td>\n",
       "    </tr>\n",
       "  </tbody>\n",
       "</table>\n",
       "</div>"
      ],
      "text/plain": [
       "   userId  movieId  rating  timestamp\n",
       "0       1        1     4.0  964982703\n",
       "1       1        3     4.0  964981247\n",
       "2       1        6     4.0  964982224\n",
       "3       1       47     5.0  964983815\n",
       "4       1       50     5.0  964982931"
      ]
     },
     "execution_count": 5,
     "metadata": {},
     "output_type": "execute_result"
    }
   ],
   "source": [
    "ratings_df = pd.read_csv('./datasets/ml-latest-small/ratings.csv')\n",
    "ratings_df.head()"
   ]
  },
  {
   "cell_type": "code",
   "execution_count": 6,
   "id": "b62f1fcf-3fea-4d00-90cd-4bfc61a18092",
   "metadata": {},
   "outputs": [
    {
     "data": {
      "text/html": [
       "<div>\n",
       "<style scoped>\n",
       "    .dataframe tbody tr th:only-of-type {\n",
       "        vertical-align: middle;\n",
       "    }\n",
       "\n",
       "    .dataframe tbody tr th {\n",
       "        vertical-align: top;\n",
       "    }\n",
       "\n",
       "    .dataframe thead th {\n",
       "        text-align: right;\n",
       "    }\n",
       "</style>\n",
       "<table border=\"1\" class=\"dataframe\">\n",
       "  <thead>\n",
       "    <tr style=\"text-align: right;\">\n",
       "      <th></th>\n",
       "      <th>userId</th>\n",
       "      <th>movieId</th>\n",
       "      <th>tag</th>\n",
       "      <th>timestamp</th>\n",
       "    </tr>\n",
       "  </thead>\n",
       "  <tbody>\n",
       "    <tr>\n",
       "      <th>0</th>\n",
       "      <td>2</td>\n",
       "      <td>60756</td>\n",
       "      <td>funny</td>\n",
       "      <td>1445714994</td>\n",
       "    </tr>\n",
       "    <tr>\n",
       "      <th>1</th>\n",
       "      <td>2</td>\n",
       "      <td>60756</td>\n",
       "      <td>Highly quotable</td>\n",
       "      <td>1445714996</td>\n",
       "    </tr>\n",
       "    <tr>\n",
       "      <th>2</th>\n",
       "      <td>2</td>\n",
       "      <td>60756</td>\n",
       "      <td>will ferrell</td>\n",
       "      <td>1445714992</td>\n",
       "    </tr>\n",
       "    <tr>\n",
       "      <th>3</th>\n",
       "      <td>2</td>\n",
       "      <td>89774</td>\n",
       "      <td>Boxing story</td>\n",
       "      <td>1445715207</td>\n",
       "    </tr>\n",
       "    <tr>\n",
       "      <th>4</th>\n",
       "      <td>2</td>\n",
       "      <td>89774</td>\n",
       "      <td>MMA</td>\n",
       "      <td>1445715200</td>\n",
       "    </tr>\n",
       "  </tbody>\n",
       "</table>\n",
       "</div>"
      ],
      "text/plain": [
       "   userId  movieId              tag   timestamp\n",
       "0       2    60756            funny  1445714994\n",
       "1       2    60756  Highly quotable  1445714996\n",
       "2       2    60756     will ferrell  1445714992\n",
       "3       2    89774     Boxing story  1445715207\n",
       "4       2    89774              MMA  1445715200"
      ]
     },
     "execution_count": 6,
     "metadata": {},
     "output_type": "execute_result"
    }
   ],
   "source": [
    "tags_df = pd.read_csv('./datasets/ml-latest-small/tags.csv')\n",
    "tags_df.head()"
   ]
  },
  {
   "cell_type": "markdown",
   "id": "54050ed7-fe09-4337-83b9-63beba3ddaa4",
   "metadata": {},
   "source": [
    "## Process data"
   ]
  },
  {
   "cell_type": "code",
   "execution_count": 7,
   "id": "c7a85469-8262-4960-87aa-c907ac9b1131",
   "metadata": {},
   "outputs": [
    {
     "data": {
      "text/html": [
       "<div>\n",
       "<style scoped>\n",
       "    .dataframe tbody tr th:only-of-type {\n",
       "        vertical-align: middle;\n",
       "    }\n",
       "\n",
       "    .dataframe tbody tr th {\n",
       "        vertical-align: top;\n",
       "    }\n",
       "\n",
       "    .dataframe thead th {\n",
       "        text-align: right;\n",
       "    }\n",
       "</style>\n",
       "<table border=\"1\" class=\"dataframe\">\n",
       "  <thead>\n",
       "    <tr style=\"text-align: right;\">\n",
       "      <th></th>\n",
       "      <th>userId</th>\n",
       "      <th>movieId</th>\n",
       "      <th>rating</th>\n",
       "      <th>timestamp</th>\n",
       "    </tr>\n",
       "  </thead>\n",
       "  <tbody>\n",
       "    <tr>\n",
       "      <th>0</th>\n",
       "      <td>1</td>\n",
       "      <td>1</td>\n",
       "      <td>4.0</td>\n",
       "      <td>964982703</td>\n",
       "    </tr>\n",
       "    <tr>\n",
       "      <th>1</th>\n",
       "      <td>1</td>\n",
       "      <td>3</td>\n",
       "      <td>4.0</td>\n",
       "      <td>964981247</td>\n",
       "    </tr>\n",
       "    <tr>\n",
       "      <th>2</th>\n",
       "      <td>1</td>\n",
       "      <td>6</td>\n",
       "      <td>4.0</td>\n",
       "      <td>964982224</td>\n",
       "    </tr>\n",
       "    <tr>\n",
       "      <th>3</th>\n",
       "      <td>1</td>\n",
       "      <td>47</td>\n",
       "      <td>5.0</td>\n",
       "      <td>964983815</td>\n",
       "    </tr>\n",
       "    <tr>\n",
       "      <th>4</th>\n",
       "      <td>1</td>\n",
       "      <td>50</td>\n",
       "      <td>5.0</td>\n",
       "      <td>964982931</td>\n",
       "    </tr>\n",
       "  </tbody>\n",
       "</table>\n",
       "</div>"
      ],
      "text/plain": [
       "   userId  movieId  rating  timestamp\n",
       "0       1        1     4.0  964982703\n",
       "1       1        3     4.0  964981247\n",
       "2       1        6     4.0  964982224\n",
       "3       1       47     5.0  964983815\n",
       "4       1       50     5.0  964982931"
      ]
     },
     "execution_count": 7,
     "metadata": {},
     "output_type": "execute_result"
    }
   ],
   "source": [
    "# filter out rarely rated movies and rarely rating users\n",
    "min_movie_ratings = 10\n",
    "min_user_ratings = 10\n",
    "\n",
    "filter_movies = (ratings_df['movieId'].value_counts() > min_movie_ratings)\n",
    "filter_movies = filter_movies[filter_movies].index.tolist()\n",
    "\n",
    "filter_users = (ratings_df['userId'].value_counts() > min_user_ratings)\n",
    "filter_users = filter_users[filter_users].index.tolist()\n",
    "\n",
    "# the get filtered data\n",
    "mask = (ratings_df['movieId'].isin(filter_movies)) & (ratings_df['userId'].isin(filter_users))\n",
    "ratings_df_filtered = ratings_df[mask]\n",
    "del filter_movies, filter_users\n",
    "ratings_df_filtered.head()"
   ]
  },
  {
   "cell_type": "code",
   "execution_count": 9,
   "id": "17af1247-4f4c-4ed0-8a09-e6f04c5617d9",
   "metadata": {},
   "outputs": [
    {
     "name": "stdout",
     "output_type": "stream",
     "text": [
      "(69636, 4)\n",
      "(10000, 4)\n"
     ]
    }
   ],
   "source": [
    "# set aside a small port of ratings_df for testing purpose\n",
    "n = 10000\n",
    "\n",
    "rng = np.random.default_rng(42)\n",
    "permuted_indices = rng.permutation(ratings_df_filtered.shape[0])\n",
    "\n",
    "\n",
    "df_train = ratings_df_filtered.iloc[permuted_indices[:-n],:]\n",
    "df_test = ratings_df_filtered.iloc[permuted_indices[-n:],:]\n",
    "print(df_train.shape)\n",
    "print(df_test.shape)"
   ]
  },
  {
   "cell_type": "markdown",
   "id": "72690018-4c50-418c-a90f-313d2494d5f5",
   "metadata": {},
   "source": [
    "## Deep learning matrix factorization based collaborative filtering recommendation"
   ]
  },
  {
   "cell_type": "code",
   "execution_count": 8,
   "id": "786fdd09-991b-40cf-a2fa-3627fddba685",
   "metadata": {},
   "outputs": [],
   "source": [
    "# user id and movie id mappings\n",
    "user_id_mapping = {id: i for i, id in enumerate(ratings_df_filtered['userId'].unique())}\n",
    "movie_id_mapping = {id: i for i, id in enumerate(ratings_df_filtered['movieId'].unique())}"
   ]
  },
  {
   "cell_type": "code",
   "execution_count": 40,
   "id": "9a9a89e5-5898-4455-a204-d2ce8695d891",
   "metadata": {},
   "outputs": [],
   "source": [
    "# inverse mapping for movies\n",
    "movie_id_mapping_inv = {i: id for i, id in enumerate(ratings_df_filtered['movieId'].unique())}"
   ]
  },
  {
   "cell_type": "code",
   "execution_count": 10,
   "id": "c5e82ec5-ce39-41b3-ab6d-14655dcc9a84",
   "metadata": {},
   "outputs": [],
   "source": [
    "# apply mapping on training data\n",
    "train_user_data = df_train['userId'].map(user_id_mapping)\n",
    "train_movie_data = df_train['movieId'].map(movie_id_mapping)"
   ]
  },
  {
   "cell_type": "code",
   "execution_count": 11,
   "id": "86c70bc3-6a48-43e3-9c18-254bcda39308",
   "metadata": {},
   "outputs": [],
   "source": [
    "# apply mapping on testing data\n",
    "test_user_data = df_test['userId'].map(user_id_mapping)\n",
    "test_movie_data = df_test['movieId'].map(movie_id_mapping)"
   ]
  },
  {
   "cell_type": "code",
   "execution_count": 12,
   "id": "fa4e6aa7-e547-4829-922d-2941aa8983d4",
   "metadata": {},
   "outputs": [],
   "source": [
    "# input variable sizes\n",
    "users = len(user_id_mapping)\n",
    "movies = len(movie_id_mapping)\n",
    "embedding_size = 100"
   ]
  },
  {
   "cell_type": "code",
   "execution_count": 13,
   "id": "02f8b226-91a9-40f8-be3b-9f56651a254d",
   "metadata": {},
   "outputs": [],
   "source": [
    "# create tensors for user and movie\n",
    "user_id_input = Input(shape=(1,), name='user')\n",
    "movie_id_input = Input(shape=(1,), name='movie')"
   ]
  },
  {
   "cell_type": "code",
   "execution_count": 14,
   "id": "474ee8af-682e-4075-9990-7a2b078268ff",
   "metadata": {},
   "outputs": [],
   "source": [
    "# embedding layer for users\n",
    "user_embedding = Embedding(output_dim=embedding_size,\n",
    "                          input_dim=users,\n",
    "                          input_length=1,\n",
    "                          name='user_embedding')(user_id_input)\n",
    "\n",
    "# embedding layer for movie\n",
    "movie_embedding = Embedding(output_dim=embedding_size,\n",
    "                           input_dim=movies,\n",
    "                           input_length=1,\n",
    "                           name='movie_embedding')(movie_id_input)"
   ]
  },
  {
   "cell_type": "code",
   "execution_count": 15,
   "id": "ba7557f5-a892-4c1c-9101-57c62eef0d63",
   "metadata": {},
   "outputs": [],
   "source": [
    "# reshape embedding layers\n",
    "user_vector = Reshape([embedding_size])(user_embedding)\n",
    "movie_vector = Reshape([embedding_size])(movie_embedding)"
   ]
  },
  {
   "cell_type": "code",
   "execution_count": 16,
   "id": "331c0643-96a9-474f-bcaa-5af9a2a8d004",
   "metadata": {},
   "outputs": [],
   "source": [
    "# dot product of user_vector and movie_vector\n",
    "y = Dot(1, normalize=False)([user_vector, movie_vector])"
   ]
  },
  {
   "cell_type": "code",
   "execution_count": 17,
   "id": "dc18b76c-06ab-4316-b1c6-49306f8aa7df",
   "metadata": {},
   "outputs": [
    {
     "name": "stdout",
     "output_type": "stream",
     "text": [
      "Model: \"model_1\"\n",
      "__________________________________________________________________________________________________\n",
      "Layer (type)                    Output Shape         Param #     Connected to                     \n",
      "==================================================================================================\n",
      "user (InputLayer)               (None, 1)            0                                            \n",
      "__________________________________________________________________________________________________\n",
      "movie (InputLayer)              (None, 1)            0                                            \n",
      "__________________________________________________________________________________________________\n",
      "user_embedding (Embedding)      (None, 1, 100)       61000       user[0][0]                       \n",
      "__________________________________________________________________________________________________\n",
      "movie_embedding (Embedding)     (None, 1, 100)       212100      movie[0][0]                      \n",
      "__________________________________________________________________________________________________\n",
      "reshape_1 (Reshape)             (None, 100)          0           user_embedding[0][0]             \n",
      "__________________________________________________________________________________________________\n",
      "reshape_2 (Reshape)             (None, 100)          0           movie_embedding[0][0]            \n",
      "__________________________________________________________________________________________________\n",
      "dot_1 (Dot)                     (None, 1)            0           reshape_1[0][0]                  \n",
      "                                                                 reshape_2[0][0]                  \n",
      "==================================================================================================\n",
      "Total params: 273,100\n",
      "Trainable params: 273,100\n",
      "Non-trainable params: 0\n",
      "__________________________________________________________________________________________________\n"
     ]
    }
   ],
   "source": [
    "# model\n",
    "model = Model(inputs=[user_id_input, movie_id_input], outputs=y)\n",
    "model.compile(loss='mse', optimizer='adam')\n",
    "model.summary()"
   ]
  },
  {
   "cell_type": "code",
   "execution_count": 18,
   "id": "16a52df4-7190-409e-8d25-750d2398981d",
   "metadata": {},
   "outputs": [
    {
     "name": "stdout",
     "output_type": "stream",
     "text": [
      "Train on 62672 samples, validate on 6964 samples\n",
      "Epoch 1/10\n",
      "62672/62672 [==============================] - 2s 27us/step - loss: 11.6594 - val_loss: 4.3326\n",
      "Epoch 2/10\n",
      "62672/62672 [==============================] - 2s 27us/step - loss: 1.7589 - val_loss: 0.9844\n",
      "Epoch 3/10\n",
      "62672/62672 [==============================] - 2s 29us/step - loss: 0.7800 - val_loss: 0.7795\n",
      "Epoch 4/10\n",
      "62672/62672 [==============================] - 2s 25us/step - loss: 0.6850 - val_loss: 0.7456\n",
      "Epoch 5/10\n",
      "62672/62672 [==============================] - 2s 25us/step - loss: 0.6442 - val_loss: 0.7350\n",
      "Epoch 6/10\n",
      "62672/62672 [==============================] - 2s 25us/step - loss: 0.5997 - val_loss: 0.7275\n",
      "Epoch 7/10\n",
      "62672/62672 [==============================] - 2s 25us/step - loss: 0.5499 - val_loss: 0.7219\n",
      "Epoch 8/10\n",
      "62672/62672 [==============================] - 2s 25us/step - loss: 0.4960 - val_loss: 0.7198\n",
      "Epoch 9/10\n",
      "62672/62672 [==============================] - 2s 25us/step - loss: 0.4390 - val_loss: 0.7233\n",
      "Epoch 10/10\n",
      "62672/62672 [==============================] - 2s 26us/step - loss: 0.3813 - val_loss: 0.7227\n"
     ]
    },
    {
     "data": {
      "text/plain": [
       "<keras.callbacks.History at 0x7fed4da93fd0>"
      ]
     },
     "execution_count": 18,
     "metadata": {},
     "output_type": "execute_result"
    }
   ],
   "source": [
    "# fit model\n",
    "X = [train_user_data, train_movie_data]\n",
    "y = df_train['rating']\n",
    "\n",
    "batch_size = 100\n",
    "epochs = 10\n",
    "validation_split = 0.1\n",
    "\n",
    "model.fit(X, y,\n",
    "         batch_size=batch_size,\n",
    "         epochs=epochs,\n",
    "         validation_split=validation_split,\n",
    "         shuffle=True,\n",
    "         verbose=1)"
   ]
  },
  {
   "cell_type": "code",
   "execution_count": 19,
   "id": "6d1c5877-af84-4599-813e-ee283be7efc6",
   "metadata": {},
   "outputs": [
    {
     "name": "stdout",
     "output_type": "stream",
     "text": [
      "RMSE on test data is: 0.8353738832188007\n"
     ]
    }
   ],
   "source": [
    "# test model\n",
    "y_pred = model.predict([test_user_data, test_movie_data]).ravel()\n",
    "y_pred = list(map(lambda x: 1.0 if x<1 else 5.0 if x>5.0 else x, y_pred))\n",
    "y_true = df_test['rating'].values\n",
    "\n",
    "# rmse\n",
    "rmse = np.sqrt(mean_squared_error(y_true, y_pred))\n",
    "print(f'RMSE on test data is: {rmse}')"
   ]
  },
  {
   "cell_type": "code",
   "execution_count": 58,
   "id": "ea035b82-1c37-4cab-b4b5-6c3a897a3641",
   "metadata": {},
   "outputs": [
    {
     "data": {
      "text/html": [
       "<div>\n",
       "<style scoped>\n",
       "    .dataframe tbody tr th:only-of-type {\n",
       "        vertical-align: middle;\n",
       "    }\n",
       "\n",
       "    .dataframe tbody tr th {\n",
       "        vertical-align: top;\n",
       "    }\n",
       "\n",
       "    .dataframe thead th {\n",
       "        text-align: right;\n",
       "    }\n",
       "</style>\n",
       "<table border=\"1\" class=\"dataframe\">\n",
       "  <thead>\n",
       "    <tr style=\"text-align: right;\">\n",
       "      <th></th>\n",
       "      <th>new_userId</th>\n",
       "      <th>new_movieId</th>\n",
       "      <th>old_movideId</th>\n",
       "      <th>title</th>\n",
       "      <th>predicted_rating</th>\n",
       "      <th>actual_rating</th>\n",
       "    </tr>\n",
       "  </thead>\n",
       "  <tbody>\n",
       "    <tr>\n",
       "      <th>0</th>\n",
       "      <td>248</td>\n",
       "      <td>1081</td>\n",
       "      <td>788</td>\n",
       "      <td>Nutty Professor, The (1996)</td>\n",
       "      <td>3.1</td>\n",
       "      <td>3.5</td>\n",
       "    </tr>\n",
       "    <tr>\n",
       "      <th>1</th>\n",
       "      <td>0</td>\n",
       "      <td>165</td>\n",
       "      <td>2872</td>\n",
       "      <td>Excalibur (1981)</td>\n",
       "      <td>4.4</td>\n",
       "      <td>5.0</td>\n",
       "    </tr>\n",
       "    <tr>\n",
       "      <th>2</th>\n",
       "      <td>483</td>\n",
       "      <td>628</td>\n",
       "      <td>33794</td>\n",
       "      <td>Batman Begins (2005)</td>\n",
       "      <td>4.0</td>\n",
       "      <td>4.0</td>\n",
       "    </tr>\n",
       "    <tr>\n",
       "      <th>3</th>\n",
       "      <td>287</td>\n",
       "      <td>16</td>\n",
       "      <td>296</td>\n",
       "      <td>Pulp Fiction (1994)</td>\n",
       "      <td>4.4</td>\n",
       "      <td>5.0</td>\n",
       "    </tr>\n",
       "    <tr>\n",
       "      <th>4</th>\n",
       "      <td>15</td>\n",
       "      <td>842</td>\n",
       "      <td>913</td>\n",
       "      <td>Maltese Falcon, The (1941)</td>\n",
       "      <td>3.6</td>\n",
       "      <td>4.0</td>\n",
       "    </tr>\n",
       "    <tr>\n",
       "      <th>5</th>\n",
       "      <td>327</td>\n",
       "      <td>288</td>\n",
       "      <td>912</td>\n",
       "      <td>Casablanca (1942)</td>\n",
       "      <td>4.6</td>\n",
       "      <td>1.0</td>\n",
       "    </tr>\n",
       "    <tr>\n",
       "      <th>6</th>\n",
       "      <td>533</td>\n",
       "      <td>1119</td>\n",
       "      <td>1485</td>\n",
       "      <td>Liar Liar (1997)</td>\n",
       "      <td>4.3</td>\n",
       "      <td>3.5</td>\n",
       "    </tr>\n",
       "    <tr>\n",
       "      <th>7</th>\n",
       "      <td>517</td>\n",
       "      <td>233</td>\n",
       "      <td>31</td>\n",
       "      <td>Dangerous Minds (1995)</td>\n",
       "      <td>3.7</td>\n",
       "      <td>1.0</td>\n",
       "    </tr>\n",
       "    <tr>\n",
       "      <th>8</th>\n",
       "      <td>447</td>\n",
       "      <td>324</td>\n",
       "      <td>1923</td>\n",
       "      <td>There's Something About Mary (1998)</td>\n",
       "      <td>3.9</td>\n",
       "      <td>4.0</td>\n",
       "    </tr>\n",
       "    <tr>\n",
       "      <th>9</th>\n",
       "      <td>181</td>\n",
       "      <td>656</td>\n",
       "      <td>5902</td>\n",
       "      <td>Adaptation (2002)</td>\n",
       "      <td>3.9</td>\n",
       "      <td>4.5</td>\n",
       "    </tr>\n",
       "  </tbody>\n",
       "</table>\n",
       "</div>"
      ],
      "text/plain": [
       "   new_userId  new_movieId  old_movideId                                title  \\\n",
       "0         248         1081           788          Nutty Professor, The (1996)   \n",
       "1           0          165          2872                     Excalibur (1981)   \n",
       "2         483          628         33794                 Batman Begins (2005)   \n",
       "3         287           16           296                  Pulp Fiction (1994)   \n",
       "4          15          842           913           Maltese Falcon, The (1941)   \n",
       "5         327          288           912                    Casablanca (1942)   \n",
       "6         533         1119          1485                     Liar Liar (1997)   \n",
       "7         517          233            31               Dangerous Minds (1995)   \n",
       "8         447          324          1923  There's Something About Mary (1998)   \n",
       "9         181          656          5902                    Adaptation (2002)   \n",
       "\n",
       "   predicted_rating  actual_rating  \n",
       "0               3.1            3.5  \n",
       "1               4.4            5.0  \n",
       "2               4.0            4.0  \n",
       "3               4.4            5.0  \n",
       "4               3.6            4.0  \n",
       "5               4.6            1.0  \n",
       "6               4.3            3.5  \n",
       "7               3.7            1.0  \n",
       "8               3.9            4.0  \n",
       "9               3.9            4.5  "
      ]
     },
     "execution_count": 58,
     "metadata": {},
     "output_type": "execute_result"
    }
   ],
   "source": [
    "# compare predictions and actual ratings\n",
    "test_movie_ids = test_movie_data.map(movie_id_mapping_inv)\n",
    "\n",
    "test_movie_titles = []\n",
    "\n",
    "for i in test_movie_ids:\n",
    "    title = movies_df[movies_df.movieId.values==i].title.values[0]\n",
    "    test_movie_titles.append(title)\n",
    "\n",
    "results = pd.DataFrame({'new_userId': test_user_data.values,\n",
    "                      'new_movieId': test_movie_data.values,\n",
    "                        'old_movideId': test_movie_ids.values,\n",
    "                      'title': test_movie_titles,\n",
    "                      'predicted_rating': np.round(y_pred,1),\n",
    "                      'actual_rating': y_true\n",
    "                       })\n",
    "\n",
    "results.head(10)"
   ]
  },
  {
   "cell_type": "code",
   "execution_count": null,
   "id": "9a8a7ae9-a19a-4c8c-ab10-e6a44ef39bc9",
   "metadata": {},
   "outputs": [],
   "source": []
  }
 ],
 "metadata": {
  "kernelspec": {
   "display_name": "Python (MEC Mini-Projects)",
   "language": "python",
   "name": "mec-miniprojects"
  },
  "language_info": {
   "codemirror_mode": {
    "name": "ipython",
    "version": 3
   },
   "file_extension": ".py",
   "mimetype": "text/x-python",
   "name": "python",
   "nbconvert_exporter": "python",
   "pygments_lexer": "ipython3",
   "version": "3.7.13"
  }
 },
 "nbformat": 4,
 "nbformat_minor": 5
}
