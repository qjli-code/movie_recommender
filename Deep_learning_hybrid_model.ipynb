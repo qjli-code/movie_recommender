{
 "cells": [
  {
   "cell_type": "markdown",
   "id": "2729fe13-5f62-4120-a462-2dc3a5a080db",
   "metadata": {},
   "source": [
    "## Deep learning hybrid recommendation system"
   ]
  },
  {
   "cell_type": "markdown",
   "id": "7355f7ef-7704-4d39-b385-bcf16f598642",
   "metadata": {},
   "source": [
    "In this approach, we will combine 1) the tf-idf representation of movies from content-based recommendation system, and 2) the user/movie embeddings from collaborative-filtering recommendation system, as a concatenated input to predict ratings."
   ]
  },
  {
   "cell_type": "code",
   "execution_count": 1,
   "id": "69eab759-df8e-4c35-80f1-dabc5ea5eadd",
   "metadata": {},
   "outputs": [
    {
     "name": "stderr",
     "output_type": "stream",
     "text": [
      "Using TensorFlow backend.\n"
     ]
    }
   ],
   "source": [
    "# imports\n",
    "\n",
    "import numpy as np\n",
    "import pandas as pd\n",
    "import matplotlib.pyplot as plt\n",
    "\n",
    "from sklearn.metrics import mean_squared_error\n",
    "from sklearn.metrics.pairwise import cosine_similarity\n",
    "from sklearn.feature_extraction.text import TfidfVectorizer\n",
    "\n",
    "from tqdm import tqdm\n",
    "\n",
    "import tensorflow as tf\n",
    "import keras\n",
    "\n",
    "from keras.layers import Input, Embedding, Reshape, Dot, Concatenate, Dense, Dropout\n",
    "from keras.models import Model\n",
    "\n",
    "from scipy.sparse import vstack"
   ]
  },
  {
   "cell_type": "code",
   "execution_count": 2,
   "id": "85fb3eb9-54f0-41b3-a531-265e33d0d3c3",
   "metadata": {},
   "outputs": [],
   "source": [
    "# remove unnecessary TF logs\n",
    "import logging\n",
    "tf.get_logger().setLevel(logging.ERROR)"
   ]
  },
  {
   "cell_type": "code",
   "execution_count": 3,
   "id": "16cbb1fa-51c3-414c-a7d6-ee8b2cf64335",
   "metadata": {},
   "outputs": [
    {
     "name": "stdout",
     "output_type": "stream",
     "text": [
      "TF Version: 1.15.0\n",
      "Keras Version: 2.2.5\n"
     ]
    }
   ],
   "source": [
    "# check keras and TF version used\n",
    "print('TF Version:', tf.__version__)\n",
    "print('Keras Version:', keras.__version__)"
   ]
  },
  {
   "cell_type": "markdown",
   "id": "3b1f3dbc-9354-452d-b473-8c74d98946d8",
   "metadata": {},
   "source": [
    "## Load datasets"
   ]
  },
  {
   "cell_type": "code",
   "execution_count": 58,
   "id": "1e962ed7-35a9-4d2c-84b7-d8d7028c2aff",
   "metadata": {},
   "outputs": [
    {
     "data": {
      "text/html": [
       "<div>\n",
       "<style scoped>\n",
       "    .dataframe tbody tr th:only-of-type {\n",
       "        vertical-align: middle;\n",
       "    }\n",
       "\n",
       "    .dataframe tbody tr th {\n",
       "        vertical-align: top;\n",
       "    }\n",
       "\n",
       "    .dataframe thead th {\n",
       "        text-align: right;\n",
       "    }\n",
       "</style>\n",
       "<table border=\"1\" class=\"dataframe\">\n",
       "  <thead>\n",
       "    <tr style=\"text-align: right;\">\n",
       "      <th></th>\n",
       "      <th>movieId</th>\n",
       "      <th>title</th>\n",
       "      <th>genres</th>\n",
       "    </tr>\n",
       "  </thead>\n",
       "  <tbody>\n",
       "    <tr>\n",
       "      <th>0</th>\n",
       "      <td>1</td>\n",
       "      <td>Toy Story (1995)</td>\n",
       "      <td>Adventure|Animation|Children|Comedy|Fantasy</td>\n",
       "    </tr>\n",
       "    <tr>\n",
       "      <th>1</th>\n",
       "      <td>2</td>\n",
       "      <td>Jumanji (1995)</td>\n",
       "      <td>Adventure|Children|Fantasy</td>\n",
       "    </tr>\n",
       "    <tr>\n",
       "      <th>2</th>\n",
       "      <td>3</td>\n",
       "      <td>Grumpier Old Men (1995)</td>\n",
       "      <td>Comedy|Romance</td>\n",
       "    </tr>\n",
       "    <tr>\n",
       "      <th>3</th>\n",
       "      <td>4</td>\n",
       "      <td>Waiting to Exhale (1995)</td>\n",
       "      <td>Comedy|Drama|Romance</td>\n",
       "    </tr>\n",
       "    <tr>\n",
       "      <th>4</th>\n",
       "      <td>5</td>\n",
       "      <td>Father of the Bride Part II (1995)</td>\n",
       "      <td>Comedy</td>\n",
       "    </tr>\n",
       "  </tbody>\n",
       "</table>\n",
       "</div>"
      ],
      "text/plain": [
       "   movieId                               title  \\\n",
       "0        1                    Toy Story (1995)   \n",
       "1        2                      Jumanji (1995)   \n",
       "2        3             Grumpier Old Men (1995)   \n",
       "3        4            Waiting to Exhale (1995)   \n",
       "4        5  Father of the Bride Part II (1995)   \n",
       "\n",
       "                                        genres  \n",
       "0  Adventure|Animation|Children|Comedy|Fantasy  \n",
       "1                   Adventure|Children|Fantasy  \n",
       "2                               Comedy|Romance  \n",
       "3                         Comedy|Drama|Romance  \n",
       "4                                       Comedy  "
      ]
     },
     "execution_count": 58,
     "metadata": {},
     "output_type": "execute_result"
    }
   ],
   "source": [
    "movies_df = pd.read_csv('./datasets/ml-latest-small/movies.csv')\n",
    "movies_df.head(5)"
   ]
  },
  {
   "cell_type": "code",
   "execution_count": 59,
   "id": "2dbfa0ce-0b97-4f85-9ebb-588a1b77cc25",
   "metadata": {},
   "outputs": [
    {
     "name": "stdout",
     "output_type": "stream",
     "text": [
      "<class 'pandas.core.frame.DataFrame'>\n",
      "RangeIndex: 9742 entries, 0 to 9741\n",
      "Data columns (total 3 columns):\n",
      " #   Column   Non-Null Count  Dtype \n",
      "---  ------   --------------  ----- \n",
      " 0   movieId  9742 non-null   int64 \n",
      " 1   title    9742 non-null   object\n",
      " 2   genres   9742 non-null   object\n",
      "dtypes: int64(1), object(2)\n",
      "memory usage: 228.5+ KB\n"
     ]
    }
   ],
   "source": [
    "movies_df.info()"
   ]
  },
  {
   "cell_type": "code",
   "execution_count": 60,
   "id": "61eb57c8-946b-4e14-b2ef-c88914555181",
   "metadata": {},
   "outputs": [
    {
     "data": {
      "text/html": [
       "<div>\n",
       "<style scoped>\n",
       "    .dataframe tbody tr th:only-of-type {\n",
       "        vertical-align: middle;\n",
       "    }\n",
       "\n",
       "    .dataframe tbody tr th {\n",
       "        vertical-align: top;\n",
       "    }\n",
       "\n",
       "    .dataframe thead th {\n",
       "        text-align: right;\n",
       "    }\n",
       "</style>\n",
       "<table border=\"1\" class=\"dataframe\">\n",
       "  <thead>\n",
       "    <tr style=\"text-align: right;\">\n",
       "      <th></th>\n",
       "      <th>userId</th>\n",
       "      <th>movieId</th>\n",
       "      <th>rating</th>\n",
       "      <th>timestamp</th>\n",
       "    </tr>\n",
       "  </thead>\n",
       "  <tbody>\n",
       "    <tr>\n",
       "      <th>0</th>\n",
       "      <td>1</td>\n",
       "      <td>1</td>\n",
       "      <td>4.0</td>\n",
       "      <td>964982703</td>\n",
       "    </tr>\n",
       "    <tr>\n",
       "      <th>1</th>\n",
       "      <td>1</td>\n",
       "      <td>3</td>\n",
       "      <td>4.0</td>\n",
       "      <td>964981247</td>\n",
       "    </tr>\n",
       "    <tr>\n",
       "      <th>2</th>\n",
       "      <td>1</td>\n",
       "      <td>6</td>\n",
       "      <td>4.0</td>\n",
       "      <td>964982224</td>\n",
       "    </tr>\n",
       "    <tr>\n",
       "      <th>3</th>\n",
       "      <td>1</td>\n",
       "      <td>47</td>\n",
       "      <td>5.0</td>\n",
       "      <td>964983815</td>\n",
       "    </tr>\n",
       "    <tr>\n",
       "      <th>4</th>\n",
       "      <td>1</td>\n",
       "      <td>50</td>\n",
       "      <td>5.0</td>\n",
       "      <td>964982931</td>\n",
       "    </tr>\n",
       "  </tbody>\n",
       "</table>\n",
       "</div>"
      ],
      "text/plain": [
       "   userId  movieId  rating  timestamp\n",
       "0       1        1     4.0  964982703\n",
       "1       1        3     4.0  964981247\n",
       "2       1        6     4.0  964982224\n",
       "3       1       47     5.0  964983815\n",
       "4       1       50     5.0  964982931"
      ]
     },
     "execution_count": 60,
     "metadata": {},
     "output_type": "execute_result"
    }
   ],
   "source": [
    "ratings_df = pd.read_csv('./datasets/ml-latest-small/ratings.csv')\n",
    "ratings_df.head(5)"
   ]
  },
  {
   "cell_type": "code",
   "execution_count": 61,
   "id": "f853823c-fa66-494a-9dbe-2fd0b9d1db75",
   "metadata": {},
   "outputs": [
    {
     "name": "stdout",
     "output_type": "stream",
     "text": [
      "<class 'pandas.core.frame.DataFrame'>\n",
      "RangeIndex: 100836 entries, 0 to 100835\n",
      "Data columns (total 4 columns):\n",
      " #   Column     Non-Null Count   Dtype  \n",
      "---  ------     --------------   -----  \n",
      " 0   userId     100836 non-null  int64  \n",
      " 1   movieId    100836 non-null  int64  \n",
      " 2   rating     100836 non-null  float64\n",
      " 3   timestamp  100836 non-null  int64  \n",
      "dtypes: float64(1), int64(3)\n",
      "memory usage: 3.1 MB\n"
     ]
    }
   ],
   "source": [
    "ratings_df.info()"
   ]
  },
  {
   "cell_type": "code",
   "execution_count": 62,
   "id": "0d6c2fe2-ed84-45b7-b739-86ecb0b11565",
   "metadata": {},
   "outputs": [
    {
     "data": {
      "text/html": [
       "<div>\n",
       "<style scoped>\n",
       "    .dataframe tbody tr th:only-of-type {\n",
       "        vertical-align: middle;\n",
       "    }\n",
       "\n",
       "    .dataframe tbody tr th {\n",
       "        vertical-align: top;\n",
       "    }\n",
       "\n",
       "    .dataframe thead th {\n",
       "        text-align: right;\n",
       "    }\n",
       "</style>\n",
       "<table border=\"1\" class=\"dataframe\">\n",
       "  <thead>\n",
       "    <tr style=\"text-align: right;\">\n",
       "      <th></th>\n",
       "      <th>userId</th>\n",
       "      <th>movieId</th>\n",
       "      <th>tag</th>\n",
       "      <th>timestamp</th>\n",
       "    </tr>\n",
       "  </thead>\n",
       "  <tbody>\n",
       "    <tr>\n",
       "      <th>0</th>\n",
       "      <td>2</td>\n",
       "      <td>60756</td>\n",
       "      <td>funny</td>\n",
       "      <td>1445714994</td>\n",
       "    </tr>\n",
       "    <tr>\n",
       "      <th>1</th>\n",
       "      <td>2</td>\n",
       "      <td>60756</td>\n",
       "      <td>Highly quotable</td>\n",
       "      <td>1445714996</td>\n",
       "    </tr>\n",
       "    <tr>\n",
       "      <th>2</th>\n",
       "      <td>2</td>\n",
       "      <td>60756</td>\n",
       "      <td>will ferrell</td>\n",
       "      <td>1445714992</td>\n",
       "    </tr>\n",
       "    <tr>\n",
       "      <th>3</th>\n",
       "      <td>2</td>\n",
       "      <td>89774</td>\n",
       "      <td>Boxing story</td>\n",
       "      <td>1445715207</td>\n",
       "    </tr>\n",
       "    <tr>\n",
       "      <th>4</th>\n",
       "      <td>2</td>\n",
       "      <td>89774</td>\n",
       "      <td>MMA</td>\n",
       "      <td>1445715200</td>\n",
       "    </tr>\n",
       "  </tbody>\n",
       "</table>\n",
       "</div>"
      ],
      "text/plain": [
       "   userId  movieId              tag   timestamp\n",
       "0       2    60756            funny  1445714994\n",
       "1       2    60756  Highly quotable  1445714996\n",
       "2       2    60756     will ferrell  1445714992\n",
       "3       2    89774     Boxing story  1445715207\n",
       "4       2    89774              MMA  1445715200"
      ]
     },
     "execution_count": 62,
     "metadata": {},
     "output_type": "execute_result"
    }
   ],
   "source": [
    "tags_df = pd.read_csv('./datasets/ml-latest-small/tags.csv')\n",
    "tags_df.head(5)"
   ]
  },
  {
   "cell_type": "markdown",
   "id": "4e34d73f-86e6-4754-94a7-247c2e1ae05c",
   "metadata": {},
   "source": [
    "## Process data"
   ]
  },
  {
   "cell_type": "code",
   "execution_count": 63,
   "id": "57d0de4a-b5f8-424c-82e1-d62ca319ab48",
   "metadata": {},
   "outputs": [
    {
     "data": {
      "text/html": [
       "<div>\n",
       "<style scoped>\n",
       "    .dataframe tbody tr th:only-of-type {\n",
       "        vertical-align: middle;\n",
       "    }\n",
       "\n",
       "    .dataframe tbody tr th {\n",
       "        vertical-align: top;\n",
       "    }\n",
       "\n",
       "    .dataframe thead th {\n",
       "        text-align: right;\n",
       "    }\n",
       "</style>\n",
       "<table border=\"1\" class=\"dataframe\">\n",
       "  <thead>\n",
       "    <tr style=\"text-align: right;\">\n",
       "      <th></th>\n",
       "      <th>userId</th>\n",
       "      <th>movieId</th>\n",
       "      <th>rating</th>\n",
       "      <th>timestamp</th>\n",
       "    </tr>\n",
       "  </thead>\n",
       "  <tbody>\n",
       "    <tr>\n",
       "      <th>0</th>\n",
       "      <td>1</td>\n",
       "      <td>1</td>\n",
       "      <td>4.0</td>\n",
       "      <td>964982703</td>\n",
       "    </tr>\n",
       "    <tr>\n",
       "      <th>1</th>\n",
       "      <td>1</td>\n",
       "      <td>3</td>\n",
       "      <td>4.0</td>\n",
       "      <td>964981247</td>\n",
       "    </tr>\n",
       "    <tr>\n",
       "      <th>2</th>\n",
       "      <td>1</td>\n",
       "      <td>6</td>\n",
       "      <td>4.0</td>\n",
       "      <td>964982224</td>\n",
       "    </tr>\n",
       "    <tr>\n",
       "      <th>3</th>\n",
       "      <td>1</td>\n",
       "      <td>47</td>\n",
       "      <td>5.0</td>\n",
       "      <td>964983815</td>\n",
       "    </tr>\n",
       "    <tr>\n",
       "      <th>4</th>\n",
       "      <td>1</td>\n",
       "      <td>50</td>\n",
       "      <td>5.0</td>\n",
       "      <td>964982931</td>\n",
       "    </tr>\n",
       "  </tbody>\n",
       "</table>\n",
       "</div>"
      ],
      "text/plain": [
       "   userId  movieId  rating  timestamp\n",
       "0       1        1     4.0  964982703\n",
       "1       1        3     4.0  964981247\n",
       "2       1        6     4.0  964982224\n",
       "3       1       47     5.0  964983815\n",
       "4       1       50     5.0  964982931"
      ]
     },
     "execution_count": 63,
     "metadata": {},
     "output_type": "execute_result"
    }
   ],
   "source": [
    "# filter out rarely rated movies and rarely rating users\n",
    "min_movie_ratings = 10\n",
    "min_user_ratings = 10\n",
    "\n",
    "filter_movies = (ratings_df['movieId'].value_counts() > min_movie_ratings)\n",
    "filter_movies = filter_movies[filter_movies].index.tolist()\n",
    "\n",
    "filter_users = (ratings_df['userId'].value_counts() > min_user_ratings)\n",
    "filter_users = filter_users[filter_users].index.tolist()\n",
    "\n",
    "# the get filtered data\n",
    "mask = (ratings_df['movieId'].isin(filter_movies)) & (ratings_df['userId'].isin(filter_users))\n",
    "ratings_df_filtered = ratings_df[mask]\n",
    "del filter_movies, filter_users\n",
    "ratings_df_filtered.head()"
   ]
  },
  {
   "cell_type": "markdown",
   "id": "db84bad4-f900-458e-9a88-55b243484425",
   "metadata": {},
   "source": [
    "## Create user/movie mappings"
   ]
  },
  {
   "cell_type": "code",
   "execution_count": 64,
   "id": "d51206da-9815-4b10-841f-735cfaac39c2",
   "metadata": {},
   "outputs": [],
   "source": [
    "# copy ratings_df_filtered\n",
    "\n",
    "df_filtered_cp = ratings_df_filtered.copy(deep=True)"
   ]
  },
  {
   "cell_type": "code",
   "execution_count": 65,
   "id": "6772dc44-140f-465a-a18e-2642f8508f80",
   "metadata": {},
   "outputs": [],
   "source": [
    "# user, movie mappings\n",
    "user_id_mapping = {id:i for i,id in enumerate(df_filtered_cp['userId'].unique())}\n",
    "movie_id_mapping = {id:i for i,id in enumerate(df_filtered_cp['movieId'].unique())}"
   ]
  },
  {
   "cell_type": "code",
   "execution_count": 66,
   "id": "308904a8-3497-4060-a2b0-c7dad3951fce",
   "metadata": {},
   "outputs": [],
   "source": [
    "# map old ids to integer values\n",
    "df_filtered_cp['userId'] = df_filtered_cp['userId'].map(user_id_mapping)\n",
    "df_filtered_cp['movieId'] = df_filtered_cp['movieId'].map(movie_id_mapping)"
   ]
  },
  {
   "cell_type": "markdown",
   "id": "6dcab7b3-6516-44f5-9714-51556411307f",
   "metadata": {},
   "source": [
    "## Movie metadata "
   ]
  },
  {
   "cell_type": "code",
   "execution_count": 67,
   "id": "98e108f6-eea6-4e75-b31a-91c87f70eb48",
   "metadata": {},
   "outputs": [
    {
     "data": {
      "text/html": [
       "<div>\n",
       "<style scoped>\n",
       "    .dataframe tbody tr th:only-of-type {\n",
       "        vertical-align: middle;\n",
       "    }\n",
       "\n",
       "    .dataframe tbody tr th {\n",
       "        vertical-align: top;\n",
       "    }\n",
       "\n",
       "    .dataframe thead th {\n",
       "        text-align: right;\n",
       "    }\n",
       "</style>\n",
       "<table border=\"1\" class=\"dataframe\">\n",
       "  <thead>\n",
       "    <tr style=\"text-align: right;\">\n",
       "      <th></th>\n",
       "      <th>movieId</th>\n",
       "      <th>title</th>\n",
       "      <th>genres</th>\n",
       "    </tr>\n",
       "  </thead>\n",
       "  <tbody>\n",
       "    <tr>\n",
       "      <th>0</th>\n",
       "      <td>1</td>\n",
       "      <td>Toy Story 1995</td>\n",
       "      <td>Adventure|Animation|Children|Comedy|Fantasy</td>\n",
       "    </tr>\n",
       "    <tr>\n",
       "      <th>1</th>\n",
       "      <td>2</td>\n",
       "      <td>Jumanji 1995</td>\n",
       "      <td>Adventure|Children|Fantasy</td>\n",
       "    </tr>\n",
       "    <tr>\n",
       "      <th>2</th>\n",
       "      <td>3</td>\n",
       "      <td>Grumpier Old Men 1995</td>\n",
       "      <td>Comedy|Romance</td>\n",
       "    </tr>\n",
       "    <tr>\n",
       "      <th>3</th>\n",
       "      <td>4</td>\n",
       "      <td>Waiting to Exhale 1995</td>\n",
       "      <td>Comedy|Drama|Romance</td>\n",
       "    </tr>\n",
       "    <tr>\n",
       "      <th>4</th>\n",
       "      <td>5</td>\n",
       "      <td>Father of the Bride Part II 1995</td>\n",
       "      <td>Comedy</td>\n",
       "    </tr>\n",
       "  </tbody>\n",
       "</table>\n",
       "</div>"
      ],
      "text/plain": [
       "   movieId                             title  \\\n",
       "0        1                    Toy Story 1995   \n",
       "1        2                      Jumanji 1995   \n",
       "2        3             Grumpier Old Men 1995   \n",
       "3        4            Waiting to Exhale 1995   \n",
       "4        5  Father of the Bride Part II 1995   \n",
       "\n",
       "                                        genres  \n",
       "0  Adventure|Animation|Children|Comedy|Fantasy  \n",
       "1                   Adventure|Children|Fantasy  \n",
       "2                               Comedy|Romance  \n",
       "3                         Comedy|Drama|Romance  \n",
       "4                                       Comedy  "
      ]
     },
     "execution_count": 67,
     "metadata": {},
     "output_type": "execute_result"
    }
   ],
   "source": [
    "# remove the parenthes in movie titles\n",
    "movies_df['title'] = movies_df.title.str.replace('([\\(\\)])', '')\n",
    "movies_df.head()"
   ]
  },
  {
   "cell_type": "code",
   "execution_count": 68,
   "id": "41c15ad2-e333-45d1-b309-3403b00e15cf",
   "metadata": {},
   "outputs": [
    {
     "data": {
      "text/html": [
       "<div>\n",
       "<style scoped>\n",
       "    .dataframe tbody tr th:only-of-type {\n",
       "        vertical-align: middle;\n",
       "    }\n",
       "\n",
       "    .dataframe tbody tr th {\n",
       "        vertical-align: top;\n",
       "    }\n",
       "\n",
       "    .dataframe thead th {\n",
       "        text-align: right;\n",
       "    }\n",
       "</style>\n",
       "<table border=\"1\" class=\"dataframe\">\n",
       "  <thead>\n",
       "    <tr style=\"text-align: right;\">\n",
       "      <th></th>\n",
       "      <th>movieId</th>\n",
       "      <th>title</th>\n",
       "      <th>genres</th>\n",
       "    </tr>\n",
       "  </thead>\n",
       "  <tbody>\n",
       "    <tr>\n",
       "      <th>0</th>\n",
       "      <td>1</td>\n",
       "      <td>Toy Story 1995</td>\n",
       "      <td>Adventure Animation Children Comedy Fantasy</td>\n",
       "    </tr>\n",
       "    <tr>\n",
       "      <th>1</th>\n",
       "      <td>2</td>\n",
       "      <td>Jumanji 1995</td>\n",
       "      <td>Adventure Children Fantasy</td>\n",
       "    </tr>\n",
       "    <tr>\n",
       "      <th>2</th>\n",
       "      <td>3</td>\n",
       "      <td>Grumpier Old Men 1995</td>\n",
       "      <td>Comedy Romance</td>\n",
       "    </tr>\n",
       "    <tr>\n",
       "      <th>3</th>\n",
       "      <td>4</td>\n",
       "      <td>Waiting to Exhale 1995</td>\n",
       "      <td>Comedy Drama Romance</td>\n",
       "    </tr>\n",
       "    <tr>\n",
       "      <th>4</th>\n",
       "      <td>5</td>\n",
       "      <td>Father of the Bride Part II 1995</td>\n",
       "      <td>Comedy</td>\n",
       "    </tr>\n",
       "  </tbody>\n",
       "</table>\n",
       "</div>"
      ],
      "text/plain": [
       "   movieId                             title  \\\n",
       "0        1                    Toy Story 1995   \n",
       "1        2                      Jumanji 1995   \n",
       "2        3             Grumpier Old Men 1995   \n",
       "3        4            Waiting to Exhale 1995   \n",
       "4        5  Father of the Bride Part II 1995   \n",
       "\n",
       "                                        genres  \n",
       "0  Adventure Animation Children Comedy Fantasy  \n",
       "1                   Adventure Children Fantasy  \n",
       "2                               Comedy Romance  \n",
       "3                         Comedy Drama Romance  \n",
       "4                                       Comedy  "
      ]
     },
     "execution_count": 68,
     "metadata": {},
     "output_type": "execute_result"
    }
   ],
   "source": [
    "# remove the pipe separator in genres\n",
    "movies_df['genres'] = movies_df.genres.str.replace('(\\|)', ' ')\n",
    "movies_df.head()"
   ]
  },
  {
   "cell_type": "code",
   "execution_count": 69,
   "id": "dfd651e3-3745-46ad-a86b-a896ca3673eb",
   "metadata": {},
   "outputs": [
    {
     "data": {
      "text/html": [
       "<div>\n",
       "<style scoped>\n",
       "    .dataframe tbody tr th:only-of-type {\n",
       "        vertical-align: middle;\n",
       "    }\n",
       "\n",
       "    .dataframe tbody tr th {\n",
       "        vertical-align: top;\n",
       "    }\n",
       "\n",
       "    .dataframe thead th {\n",
       "        text-align: right;\n",
       "    }\n",
       "</style>\n",
       "<table border=\"1\" class=\"dataframe\">\n",
       "  <thead>\n",
       "    <tr style=\"text-align: right;\">\n",
       "      <th></th>\n",
       "      <th>tag</th>\n",
       "    </tr>\n",
       "    <tr>\n",
       "      <th>movieId</th>\n",
       "      <th></th>\n",
       "    </tr>\n",
       "  </thead>\n",
       "  <tbody>\n",
       "    <tr>\n",
       "      <th>1</th>\n",
       "      <td>pixar fun</td>\n",
       "    </tr>\n",
       "    <tr>\n",
       "      <th>2</th>\n",
       "      <td>Robin Williams game magic board game fantasy</td>\n",
       "    </tr>\n",
       "    <tr>\n",
       "      <th>3</th>\n",
       "      <td>old moldy</td>\n",
       "    </tr>\n",
       "    <tr>\n",
       "      <th>5</th>\n",
       "      <td>remake pregnancy</td>\n",
       "    </tr>\n",
       "    <tr>\n",
       "      <th>7</th>\n",
       "      <td>remake</td>\n",
       "    </tr>\n",
       "  </tbody>\n",
       "</table>\n",
       "</div>"
      ],
      "text/plain": [
       "                                                  tag\n",
       "movieId                                              \n",
       "1                                           pixar fun\n",
       "2        Robin Williams game magic board game fantasy\n",
       "3                                           old moldy\n",
       "5                                    remake pregnancy\n",
       "7                                              remake"
      ]
     },
     "execution_count": 69,
     "metadata": {},
     "output_type": "execute_result"
    }
   ],
   "source": [
    "# merge all tags for each movie\n",
    "movie_tags = tags_df[['movieId', 'tag']].groupby('movieId').agg(lambda x: set(x.tolist()))\n",
    "movie_tags['tag'] = movie_tags['tag'].apply(lambda x: ' '.join(str(s) for s in x))\n",
    "movie_tags.head()"
   ]
  },
  {
   "cell_type": "code",
   "execution_count": 70,
   "id": "04891b7a-2a6d-4e52-a494-afb9bad04aae",
   "metadata": {},
   "outputs": [
    {
     "data": {
      "text/html": [
       "<div>\n",
       "<style scoped>\n",
       "    .dataframe tbody tr th:only-of-type {\n",
       "        vertical-align: middle;\n",
       "    }\n",
       "\n",
       "    .dataframe tbody tr th {\n",
       "        vertical-align: top;\n",
       "    }\n",
       "\n",
       "    .dataframe thead th {\n",
       "        text-align: right;\n",
       "    }\n",
       "</style>\n",
       "<table border=\"1\" class=\"dataframe\">\n",
       "  <thead>\n",
       "    <tr style=\"text-align: right;\">\n",
       "      <th></th>\n",
       "      <th>title</th>\n",
       "      <th>genres</th>\n",
       "      <th>tag</th>\n",
       "    </tr>\n",
       "    <tr>\n",
       "      <th>movieId</th>\n",
       "      <th></th>\n",
       "      <th></th>\n",
       "      <th></th>\n",
       "    </tr>\n",
       "  </thead>\n",
       "  <tbody>\n",
       "    <tr>\n",
       "      <th>1</th>\n",
       "      <td>Toy Story 1995</td>\n",
       "      <td>Adventure Animation Children Comedy Fantasy</td>\n",
       "      <td>pixar fun</td>\n",
       "    </tr>\n",
       "    <tr>\n",
       "      <th>2</th>\n",
       "      <td>Jumanji 1995</td>\n",
       "      <td>Adventure Children Fantasy</td>\n",
       "      <td>Robin Williams game magic board game fantasy</td>\n",
       "    </tr>\n",
       "    <tr>\n",
       "      <th>3</th>\n",
       "      <td>Grumpier Old Men 1995</td>\n",
       "      <td>Comedy Romance</td>\n",
       "      <td>old moldy</td>\n",
       "    </tr>\n",
       "    <tr>\n",
       "      <th>4</th>\n",
       "      <td>Waiting to Exhale 1995</td>\n",
       "      <td>Comedy Drama Romance</td>\n",
       "      <td>NaN</td>\n",
       "    </tr>\n",
       "    <tr>\n",
       "      <th>5</th>\n",
       "      <td>Father of the Bride Part II 1995</td>\n",
       "      <td>Comedy</td>\n",
       "      <td>remake pregnancy</td>\n",
       "    </tr>\n",
       "  </tbody>\n",
       "</table>\n",
       "</div>"
      ],
      "text/plain": [
       "                                    title  \\\n",
       "movieId                                     \n",
       "1                          Toy Story 1995   \n",
       "2                            Jumanji 1995   \n",
       "3                   Grumpier Old Men 1995   \n",
       "4                  Waiting to Exhale 1995   \n",
       "5        Father of the Bride Part II 1995   \n",
       "\n",
       "                                              genres  \\\n",
       "movieId                                                \n",
       "1        Adventure Animation Children Comedy Fantasy   \n",
       "2                         Adventure Children Fantasy   \n",
       "3                                     Comedy Romance   \n",
       "4                               Comedy Drama Romance   \n",
       "5                                             Comedy   \n",
       "\n",
       "                                                  tag  \n",
       "movieId                                                \n",
       "1                                           pixar fun  \n",
       "2        Robin Williams game magic board game fantasy  \n",
       "3                                           old moldy  \n",
       "4                                                 NaN  \n",
       "5                                    remake pregnancy  "
      ]
     },
     "execution_count": 70,
     "metadata": {},
     "output_type": "execute_result"
    }
   ],
   "source": [
    "# join movies_df and movie_tags\n",
    "movies_df = movies_df.set_index('movieId').join(movie_tags)\n",
    "movies_df.head()"
   ]
  },
  {
   "cell_type": "code",
   "execution_count": 71,
   "id": "f543f009-973c-4428-95a6-ab25236bad52",
   "metadata": {},
   "outputs": [
    {
     "name": "stdout",
     "output_type": "stream",
     "text": [
      "<class 'pandas.core.frame.DataFrame'>\n",
      "Int64Index: 9742 entries, 1 to 193609\n",
      "Data columns (total 3 columns):\n",
      " #   Column  Non-Null Count  Dtype \n",
      "---  ------  --------------  ----- \n",
      " 0   title   9742 non-null   object\n",
      " 1   genres  9742 non-null   object\n",
      " 2   tag     1572 non-null   object\n",
      "dtypes: object(3)\n",
      "memory usage: 624.4+ KB\n"
     ]
    }
   ],
   "source": [
    "movies_df.info()"
   ]
  },
  {
   "cell_type": "code",
   "execution_count": 72,
   "id": "67b887f5-ebdc-4412-ae23-2262dd91059f",
   "metadata": {},
   "outputs": [
    {
     "name": "stdout",
     "output_type": "stream",
     "text": [
      "<class 'pandas.core.frame.DataFrame'>\n",
      "Int64Index: 9742 entries, 1 to 193609\n",
      "Data columns (total 3 columns):\n",
      " #   Column  Non-Null Count  Dtype \n",
      "---  ------  --------------  ----- \n",
      " 0   title   9742 non-null   object\n",
      " 1   genres  9742 non-null   object\n",
      " 2   tag     9742 non-null   object\n",
      "dtypes: object(3)\n",
      "memory usage: 624.4+ KB\n"
     ]
    }
   ],
   "source": [
    "# there are some nan values in tags, let's replace them with ' '\n",
    "movies_df['tag'] = movies_df['tag'].fillna('')\n",
    "movies_df.info()"
   ]
  },
  {
   "cell_type": "code",
   "execution_count": 73,
   "id": "ced43633-17ae-4e68-acac-41d31eda2fe8",
   "metadata": {},
   "outputs": [
    {
     "data": {
      "text/plain": [
       "'Toy Story 1995 Adventure Animation Children Comedy Fantasy pixar fun'"
      ]
     },
     "execution_count": 73,
     "metadata": {},
     "output_type": "execute_result"
    }
   ],
   "source": [
    "movies_df['meta_info'] = movies_df['title'] + ' ' + movies_df['genres'] + ' ' + movies_df['tag']\n",
    "movies_df.iloc[0, 3]"
   ]
  },
  {
   "cell_type": "code",
   "execution_count": 74,
   "id": "507215d0-a941-4fef-ad2b-4eb67dcf25c2",
   "metadata": {},
   "outputs": [
    {
     "name": "stdout",
     "output_type": "stream",
     "text": [
      "<class 'pandas.core.frame.DataFrame'>\n",
      "Int64Index: 9742 entries, 1 to 193609\n",
      "Data columns (total 4 columns):\n",
      " #   Column     Non-Null Count  Dtype \n",
      "---  ------     --------------  ----- \n",
      " 0   title      9742 non-null   object\n",
      " 1   genres     9742 non-null   object\n",
      " 2   tag        9742 non-null   object\n",
      " 3   meta_info  9742 non-null   object\n",
      "dtypes: object(4)\n",
      "memory usage: 700.5+ KB\n"
     ]
    }
   ],
   "source": [
    "movies_df.info()"
   ]
  },
  {
   "cell_type": "markdown",
   "id": "a023c522-e3db-4dfd-a422-befa43fae4cb",
   "metadata": {},
   "source": [
    "## Hybrid dataset"
   ]
  },
  {
   "cell_type": "code",
   "execution_count": 77,
   "id": "269bbb68-5f87-4ad0-b65b-9d097881b92a",
   "metadata": {},
   "outputs": [
    {
     "data": {
      "text/html": [
       "<div>\n",
       "<style scoped>\n",
       "    .dataframe tbody tr th:only-of-type {\n",
       "        vertical-align: middle;\n",
       "    }\n",
       "\n",
       "    .dataframe tbody tr th {\n",
       "        vertical-align: top;\n",
       "    }\n",
       "\n",
       "    .dataframe thead th {\n",
       "        text-align: right;\n",
       "    }\n",
       "</style>\n",
       "<table border=\"1\" class=\"dataframe\">\n",
       "  <thead>\n",
       "    <tr style=\"text-align: right;\">\n",
       "      <th></th>\n",
       "      <th>movieId</th>\n",
       "      <th>userId</th>\n",
       "      <th>rating</th>\n",
       "      <th>timestamp</th>\n",
       "    </tr>\n",
       "  </thead>\n",
       "  <tbody>\n",
       "    <tr>\n",
       "      <th>0</th>\n",
       "      <td>1</td>\n",
       "      <td>0</td>\n",
       "      <td>4.0</td>\n",
       "      <td>964981247</td>\n",
       "    </tr>\n",
       "    <tr>\n",
       "      <th>1</th>\n",
       "      <td>1</td>\n",
       "      <td>5</td>\n",
       "      <td>5.0</td>\n",
       "      <td>845554296</td>\n",
       "    </tr>\n",
       "    <tr>\n",
       "      <th>2</th>\n",
       "      <td>1</td>\n",
       "      <td>18</td>\n",
       "      <td>3.0</td>\n",
       "      <td>965707636</td>\n",
       "    </tr>\n",
       "    <tr>\n",
       "      <th>3</th>\n",
       "      <td>1</td>\n",
       "      <td>31</td>\n",
       "      <td>3.0</td>\n",
       "      <td>856736172</td>\n",
       "    </tr>\n",
       "    <tr>\n",
       "      <th>4</th>\n",
       "      <td>1</td>\n",
       "      <td>41</td>\n",
       "      <td>4.0</td>\n",
       "      <td>996221045</td>\n",
       "    </tr>\n",
       "  </tbody>\n",
       "</table>\n",
       "</div>"
      ],
      "text/plain": [
       "   movieId  userId  rating  timestamp\n",
       "0        1       0     4.0  964981247\n",
       "1        1       5     5.0  845554296\n",
       "2        1      18     3.0  965707636\n",
       "3        1      31     3.0  856736172\n",
       "4        1      41     4.0  996221045"
      ]
     },
     "execution_count": 77,
     "metadata": {},
     "output_type": "execute_result"
    }
   ],
   "source": [
    "df_hybrid = (df_filtered_cp.set_index('movieId')\n",
    "            .join(movies_df)\n",
    "            .dropna()\n",
    "            .drop(['title', 'genres', 'tag', 'meta_info'], axis=1)\n",
    "            .reset_index().rename({'index': 'movieId'}, axis=1))\n",
    "df_hybrid.head()"
   ]
  },
  {
   "cell_type": "code",
   "execution_count": 78,
   "id": "e23cba96-185b-4ac2-8104-64127d13e896",
   "metadata": {},
   "outputs": [
    {
     "name": "stdout",
     "output_type": "stream",
     "text": [
      "(50886, 4)\n",
      "(10000, 4)\n"
     ]
    }
   ],
   "source": [
    "# set aside a small port of ratings_df for testing purpose\n",
    "n = 10000\n",
    "\n",
    "rng = np.random.default_rng(42)\n",
    "permuted_indices = rng.permutation(df_hybrid.shape[0])\n",
    "\n",
    "df_train = df_hybrid.iloc[permuted_indices[:-n],:]\n",
    "df_test = df_hybrid.iloc[permuted_indices[-n:],:]\n",
    "print(df_train.shape)\n",
    "print(df_test.shape)"
   ]
  },
  {
   "cell_type": "markdown",
   "id": "463fbf07-d5c4-4ba9-a7bd-37943d9a5896",
   "metadata": {},
   "source": [
    "## Create TF-IDF vectors for train and test datasets"
   ]
  },
  {
   "cell_type": "code",
   "execution_count": 79,
   "id": "ca421c2b-3e2c-4446-911e-98de1b1b5950",
   "metadata": {},
   "outputs": [],
   "source": [
    "tfidf = TfidfVectorizer(stop_words='english')\n",
    "tfidf_hybrid = tfidf.fit_transform(movies_df['meta_info'])"
   ]
  },
  {
   "cell_type": "code",
   "execution_count": 80,
   "id": "1a5df0d9-4af7-472d-9155-2c898ca27403",
   "metadata": {},
   "outputs": [],
   "source": [
    "# map from movie_ids to indices in tfidf-matrix\n",
    "movie_idx_mapping = {id:i for i,id in enumerate(movies_df.index)}"
   ]
  },
  {
   "cell_type": "code",
   "execution_count": 81,
   "id": "15492682-c787-40d1-b317-0e3730d0b222",
   "metadata": {},
   "outputs": [
    {
     "name": "stderr",
     "output_type": "stream",
     "text": [
      "100%|██████████| 50886/50886 [00:05<00:00, 8844.37it/s]\n"
     ]
    },
    {
     "data": {
      "text/plain": [
       "50886"
      ]
     },
     "execution_count": 81,
     "metadata": {},
     "output_type": "execute_result"
    }
   ],
   "source": [
    "train_tfidf = []\n",
    "\n",
    "for idx in tqdm(df_train['movieId'].values):\n",
    "    index = movie_idx_mapping[idx]\n",
    "    train_tfidf.append(tfidf_hybrid[index])\n",
    "    \n",
    "len(train_tfidf) "
   ]
  },
  {
   "cell_type": "code",
   "execution_count": 82,
   "id": "688fd8cf-620b-4f6f-8e6d-0920f55188eb",
   "metadata": {},
   "outputs": [
    {
     "name": "stderr",
     "output_type": "stream",
     "text": [
      "100%|██████████| 10000/10000 [00:01<00:00, 8549.85it/s]\n"
     ]
    },
    {
     "data": {
      "text/plain": [
       "10000"
      ]
     },
     "execution_count": 82,
     "metadata": {},
     "output_type": "execute_result"
    }
   ],
   "source": [
    "# tfidf vectors for test data\n",
    "test_tfidf = []\n",
    "\n",
    "for idx in tqdm(df_test['movieId'].values):\n",
    "    index = movie_idx_mapping[idx]\n",
    "    test_tfidf.append(tfidf_hybrid[index])\n",
    "    \n",
    "len(test_tfidf) "
   ]
  },
  {
   "cell_type": "code",
   "execution_count": 83,
   "id": "e581095d-ecf3-49a1-9bd3-efd72b3e1bac",
   "metadata": {},
   "outputs": [
    {
     "data": {
      "text/plain": [
       "((50886, 9949), (10000, 9949))"
      ]
     },
     "execution_count": 83,
     "metadata": {},
     "output_type": "execute_result"
    }
   ],
   "source": [
    "# stack the sparse matrices\n",
    "train_tfidf = vstack(train_tfidf)\n",
    "test_tfidf = vstack(test_tfidf)\n",
    "\n",
    "train_tfidf.shape, test_tfidf.shape"
   ]
  },
  {
   "cell_type": "code",
   "execution_count": 84,
   "id": "8fc8397c-f424-49ab-b7a9-b4beb7e04f29",
   "metadata": {},
   "outputs": [
    {
     "data": {
      "text/plain": [
       "scipy.sparse.csr.csr_matrix"
      ]
     },
     "execution_count": 84,
     "metadata": {},
     "output_type": "execute_result"
    }
   ],
   "source": [
    "type(train_tfidf)"
   ]
  },
  {
   "cell_type": "markdown",
   "id": "dc7f3e91-19ba-4875-8b5f-8f58627f2f1f",
   "metadata": {},
   "source": [
    "## Deep learning architecture"
   ]
  },
  {
   "cell_type": "code",
   "execution_count": 96,
   "id": "02eba656-ec7a-492d-936f-2c98d15136e9",
   "metadata": {},
   "outputs": [],
   "source": [
    "# parameters\n",
    "user_embed_dim = 256\n",
    "movie_embed_dim = 256\n",
    "userid_input_shape = 1\n",
    "movieid_input_shape = 1\n",
    "tfidf_input_shape = tfidf_hybrid.shape[1]"
   ]
  },
  {
   "cell_type": "code",
   "execution_count": 97,
   "id": "0420884d-a92f-491c-863a-9a235cced2e8",
   "metadata": {},
   "outputs": [],
   "source": [
    "# input layers\n",
    "user_id_input = Input(shape=(userid_input_shape,), name='user')\n",
    "movie_id_input = Input(shape=(movieid_input_shape,), name='movie')\n",
    "\n",
    "# tfidf input layer\n",
    "tfidf_input = Input(shape=(tfidf_input_shape,), name='tfidf', sparse=True)"
   ]
  },
  {
   "cell_type": "code",
   "execution_count": 98,
   "id": "65b2d83e-9794-43d4-b11b-e9f324d311df",
   "metadata": {},
   "outputs": [],
   "source": [
    "# embedding layers\n",
    "# user embedding\n",
    "user_embedding = Embedding(output_dim=user_embed_dim,\n",
    "                          input_dim=len(user_id_mapping),\n",
    "                           input_length=userid_input_shape,\n",
    "                           name='user_embedding')(user_id_input)\n",
    "\n",
    "movie_embedding = Embedding(output_dim=movie_embed_dim,\n",
    "                           input_dim=len(movie_id_mapping),\n",
    "                           input_length=movieid_input_shape,\n",
    "                           name='movie_embedding')(movie_id_input)"
   ]
  },
  {
   "cell_type": "code",
   "execution_count": 99,
   "id": "ff191c9d-4737-4f30-b4e3-11c8599717fa",
   "metadata": {},
   "outputs": [],
   "source": [
    "# further transform tfidf with Dense layers\n",
    "tfidf_vectors = Dense(256, activation='relu')(tfidf_input)\n",
    "tfidf_vectors = Dense(128, activation='relu')(tfidf_vectors)"
   ]
  },
  {
   "cell_type": "code",
   "execution_count": 100,
   "id": "319b6d06-5598-4046-ac79-f3614722d409",
   "metadata": {},
   "outputs": [],
   "source": [
    "# Reshape\n",
    "user_vectors = Reshape([user_embed_dim])(user_embedding)\n",
    "movie_vectors = Reshape([movie_embed_dim])(movie_embedding)"
   ]
  },
  {
   "cell_type": "code",
   "execution_count": 101,
   "id": "949f2a84-6d07-4195-ad28-f84e158028ed",
   "metadata": {},
   "outputs": [],
   "source": [
    "# concate all inputs\n",
    "hybrid_layer = Concatenate()([user_vectors, movie_vectors, tfidf_vectors])"
   ]
  },
  {
   "cell_type": "code",
   "execution_count": 102,
   "id": "46feecab-6f02-4554-b48a-a8f24e18285e",
   "metadata": {},
   "outputs": [],
   "source": [
    "# add fully connected layers to predict ratings\n",
    "dense = Dense(256, activation='relu')(hybrid_layer)\n",
    "dense = Dropout(0.25)(dense)\n",
    "ouput = Dense(1)(dense)\n"
   ]
  },
  {
   "cell_type": "code",
   "execution_count": 103,
   "id": "74221c4a-edb3-4fda-a3f6-5da91d7f14de",
   "metadata": {},
   "outputs": [
    {
     "name": "stdout",
     "output_type": "stream",
     "text": [
      "Model: \"model_3\"\n",
      "__________________________________________________________________________________________________\n",
      "Layer (type)                    Output Shape         Param #     Connected to                     \n",
      "==================================================================================================\n",
      "user (InputLayer)               (None, 1)            0                                            \n",
      "__________________________________________________________________________________________________\n",
      "movie (InputLayer)              (None, 1)            0                                            \n",
      "__________________________________________________________________________________________________\n",
      "tfidf (InputLayer)              (None, 9949)         0                                            \n",
      "__________________________________________________________________________________________________\n",
      "user_embedding (Embedding)      (None, 1, 256)       156160      user[0][0]                       \n",
      "__________________________________________________________________________________________________\n",
      "movie_embedding (Embedding)     (None, 1, 256)       542976      movie[0][0]                      \n",
      "__________________________________________________________________________________________________\n",
      "dense_9 (Dense)                 (None, 256)          2547200     tfidf[0][0]                      \n",
      "__________________________________________________________________________________________________\n",
      "reshape_5 (Reshape)             (None, 256)          0           user_embedding[0][0]             \n",
      "__________________________________________________________________________________________________\n",
      "reshape_6 (Reshape)             (None, 256)          0           movie_embedding[0][0]            \n",
      "__________________________________________________________________________________________________\n",
      "dense_10 (Dense)                (None, 128)          32896       dense_9[0][0]                    \n",
      "__________________________________________________________________________________________________\n",
      "concatenate_3 (Concatenate)     (None, 640)          0           reshape_5[0][0]                  \n",
      "                                                                 reshape_6[0][0]                  \n",
      "                                                                 dense_10[0][0]                   \n",
      "__________________________________________________________________________________________________\n",
      "dense_11 (Dense)                (None, 256)          164096      concatenate_3[0][0]              \n",
      "__________________________________________________________________________________________________\n",
      "dropout_3 (Dropout)             (None, 256)          0           dense_11[0][0]                   \n",
      "__________________________________________________________________________________________________\n",
      "dense_12 (Dense)                (None, 1)            257         dropout_3[0][0]                  \n",
      "==================================================================================================\n",
      "Total params: 3,443,585\n",
      "Trainable params: 3,443,585\n",
      "Non-trainable params: 0\n",
      "__________________________________________________________________________________________________\n"
     ]
    }
   ],
   "source": [
    "# create model\n",
    "model = Model(inputs=[user_id_input, movie_id_input, tfidf_input], outputs=ouput)\n",
    "model.compile(loss='mse', optimizer='adam')\n",
    "model.summary()"
   ]
  },
  {
   "cell_type": "markdown",
   "id": "7421ab76-fa09-4077-9c66-8f7b95f16408",
   "metadata": {},
   "source": [
    "## train and test"
   ]
  },
  {
   "cell_type": "code",
   "execution_count": 104,
   "id": "3439a297-db99-44d9-9c9a-dc9398c95732",
   "metadata": {},
   "outputs": [
    {
     "name": "stdout",
     "output_type": "stream",
     "text": [
      "Train on 45797 samples, validate on 5089 samples\n",
      "Epoch 1/20\n",
      "45797/45797 [==============================] - 6s 120us/step - loss: 2.7467 - val_loss: 0.7604\n",
      "Epoch 2/20\n",
      "45797/45797 [==============================] - 5s 106us/step - loss: 0.7865 - val_loss: 0.7630\n",
      "Epoch 3/20\n",
      "45797/45797 [==============================] - 5s 105us/step - loss: 0.7786 - val_loss: 0.7594\n",
      "Epoch 4/20\n",
      "45797/45797 [==============================] - 5s 107us/step - loss: 0.7640 - val_loss: 0.7465\n",
      "Epoch 5/20\n",
      "45797/45797 [==============================] - 5s 99us/step - loss: 0.7583 - val_loss: 0.7461\n",
      "Epoch 6/20\n",
      "45797/45797 [==============================] - 5s 104us/step - loss: 0.7525 - val_loss: 0.7378\n",
      "Epoch 7/20\n",
      "45797/45797 [==============================] - 5s 103us/step - loss: 0.7476 - val_loss: 0.7396\n",
      "Epoch 8/20\n",
      "45797/45797 [==============================] - 5s 107us/step - loss: 0.7442 - val_loss: 0.7424\n",
      "Epoch 9/20\n",
      "45797/45797 [==============================] - 5s 107us/step - loss: 0.7402 - val_loss: 0.7450\n",
      "Epoch 10/20\n",
      "45797/45797 [==============================] - 5s 106us/step - loss: 0.7384 - val_loss: 0.7379\n",
      "Epoch 11/20\n",
      "45797/45797 [==============================] - 5s 108us/step - loss: 0.7341 - val_loss: 0.7348\n",
      "Epoch 12/20\n",
      "45797/45797 [==============================] - 5s 110us/step - loss: 0.7320 - val_loss: 0.7306\n",
      "Epoch 13/20\n",
      "45797/45797 [==============================] - 5s 106us/step - loss: 0.7283 - val_loss: 0.7331\n",
      "Epoch 14/20\n",
      "45797/45797 [==============================] - 5s 108us/step - loss: 0.7250 - val_loss: 0.7319\n",
      "Epoch 15/20\n",
      "45797/45797 [==============================] - 5s 109us/step - loss: 0.7227 - val_loss: 0.7340\n",
      "Epoch 16/20\n",
      "45797/45797 [==============================] - 5s 108us/step - loss: 0.7197 - val_loss: 0.7279\n",
      "Epoch 17/20\n",
      "45797/45797 [==============================] - 5s 109us/step - loss: 0.7137 - val_loss: 0.7309\n",
      "Epoch 18/20\n",
      "45797/45797 [==============================] - 5s 108us/step - loss: 0.7091 - val_loss: 0.7261\n",
      "Epoch 19/20\n",
      "45797/45797 [==============================] - 5s 109us/step - loss: 0.7071 - val_loss: 0.7318\n",
      "Epoch 20/20\n",
      "45797/45797 [==============================] - 5s 108us/step - loss: 0.6960 - val_loss: 0.7245\n"
     ]
    },
    {
     "data": {
      "text/plain": [
       "<keras.callbacks.History at 0x7fe50adf0a10>"
      ]
     },
     "execution_count": 104,
     "metadata": {},
     "output_type": "execute_result"
    }
   ],
   "source": [
    "batch_size=500\n",
    "epochs = 20\n",
    "X = [df_train['userId'], df_train['movieId'], train_tfidf]\n",
    "y = df_train['rating']\n",
    "model.fit(X, y,\n",
    "         batch_size=batch_size,\n",
    "         epochs=epochs,\n",
    "         validation_split=0.1,\n",
    "         shuffle=True)"
   ]
  },
  {
   "cell_type": "code",
   "execution_count": 105,
   "id": "5ac5a82f-0213-48db-b7a6-b8b39e57f3a2",
   "metadata": {},
   "outputs": [],
   "source": [
    "# test dataset\n",
    "X_test = [df_test['userId'], df_test['movieId'], test_tfidf]\n",
    "y_true = df_test['rating'].values"
   ]
  },
  {
   "cell_type": "code",
   "execution_count": 106,
   "id": "45ad2f1e-65fe-4ea1-aa5b-a50528eb1c0a",
   "metadata": {},
   "outputs": [
    {
     "name": "stdout",
     "output_type": "stream",
     "text": [
      "RMSE on test set is: 0.8397750207132764\n"
     ]
    }
   ],
   "source": [
    "# test result\n",
    "y_pred = model.predict(X_test).ravel()\n",
    "y_pred = list(map(lambda x: 1.0 if x<1 else 5.0 if x>5.0 else x, y_pred))\n",
    "\n",
    "# rmse\n",
    "rmse = np.sqrt(mean_squared_error(y_true, y_pred))\n",
    "print(f'RMSE on test set is: {rmse}')"
   ]
  },
  {
   "cell_type": "code",
   "execution_count": 108,
   "id": "9643f739-12ef-416a-bb27-78b40ff120a7",
   "metadata": {},
   "outputs": [
    {
     "data": {
      "text/html": [
       "<div>\n",
       "<style scoped>\n",
       "    .dataframe tbody tr th:only-of-type {\n",
       "        vertical-align: middle;\n",
       "    }\n",
       "\n",
       "    .dataframe tbody tr th {\n",
       "        vertical-align: top;\n",
       "    }\n",
       "\n",
       "    .dataframe thead th {\n",
       "        text-align: right;\n",
       "    }\n",
       "</style>\n",
       "<table border=\"1\" class=\"dataframe\">\n",
       "  <thead>\n",
       "    <tr style=\"text-align: right;\">\n",
       "      <th></th>\n",
       "      <th>userId</th>\n",
       "      <th>movieId</th>\n",
       "      <th>title</th>\n",
       "      <th>predicted_rating</th>\n",
       "      <th>actual_rating</th>\n",
       "    </tr>\n",
       "  </thead>\n",
       "  <tbody>\n",
       "    <tr>\n",
       "      <th>0</th>\n",
       "      <td>306</td>\n",
       "      <td>31</td>\n",
       "      <td>Twelve Monkeys a.k.a. 12 Monkeys 1995</td>\n",
       "      <td>3.2</td>\n",
       "      <td>3.0</td>\n",
       "    </tr>\n",
       "    <tr>\n",
       "      <th>1</th>\n",
       "      <td>572</td>\n",
       "      <td>1119</td>\n",
       "      <td>Absolute Power 1997</td>\n",
       "      <td>4.3</td>\n",
       "      <td>5.0</td>\n",
       "    </tr>\n",
       "    <tr>\n",
       "      <th>2</th>\n",
       "      <td>495</td>\n",
       "      <td>1957</td>\n",
       "      <td>SLC Punk! 1998</td>\n",
       "      <td>3.6</td>\n",
       "      <td>3.5</td>\n",
       "    </tr>\n",
       "    <tr>\n",
       "      <th>3</th>\n",
       "      <td>381</td>\n",
       "      <td>1037</td>\n",
       "      <td>Vampire in Venice Nosferatu a Venezia Nosferat...</td>\n",
       "      <td>3.9</td>\n",
       "      <td>4.0</td>\n",
       "    </tr>\n",
       "    <tr>\n",
       "      <th>4</th>\n",
       "      <td>317</td>\n",
       "      <td>907</td>\n",
       "      <td>Clockwork Orange, A 1971</td>\n",
       "      <td>4.1</td>\n",
       "      <td>5.0</td>\n",
       "    </tr>\n",
       "    <tr>\n",
       "      <th>5</th>\n",
       "      <td>225</td>\n",
       "      <td>82</td>\n",
       "      <td>Vampire in Brooklyn 1995</td>\n",
       "      <td>4.2</td>\n",
       "      <td>4.5</td>\n",
       "    </tr>\n",
       "    <tr>\n",
       "      <th>6</th>\n",
       "      <td>379</td>\n",
       "      <td>605</td>\n",
       "      <td>Stalingrad 1993</td>\n",
       "      <td>4.8</td>\n",
       "      <td>3.0</td>\n",
       "    </tr>\n",
       "    <tr>\n",
       "      <th>7</th>\n",
       "      <td>379</td>\n",
       "      <td>880</td>\n",
       "      <td>Delicatessen 1991</td>\n",
       "      <td>4.7</td>\n",
       "      <td>3.0</td>\n",
       "    </tr>\n",
       "    <tr>\n",
       "      <th>8</th>\n",
       "      <td>224</td>\n",
       "      <td>293</td>\n",
       "      <td>Underneath 1995</td>\n",
       "      <td>4.1</td>\n",
       "      <td>4.0</td>\n",
       "    </tr>\n",
       "    <tr>\n",
       "      <th>9</th>\n",
       "      <td>352</td>\n",
       "      <td>19</td>\n",
       "      <td>Money Train 1995</td>\n",
       "      <td>3.9</td>\n",
       "      <td>4.0</td>\n",
       "    </tr>\n",
       "    <tr>\n",
       "      <th>10</th>\n",
       "      <td>171</td>\n",
       "      <td>241</td>\n",
       "      <td>My Family 1995</td>\n",
       "      <td>4.5</td>\n",
       "      <td>3.0</td>\n",
       "    </tr>\n",
       "    <tr>\n",
       "      <th>11</th>\n",
       "      <td>327</td>\n",
       "      <td>16</td>\n",
       "      <td>Sense and Sensibility 1995</td>\n",
       "      <td>3.5</td>\n",
       "      <td>5.0</td>\n",
       "    </tr>\n",
       "    <tr>\n",
       "      <th>12</th>\n",
       "      <td>482</td>\n",
       "      <td>679</td>\n",
       "      <td>For Whom the Bell Tolls 1943</td>\n",
       "      <td>3.8</td>\n",
       "      <td>4.0</td>\n",
       "    </tr>\n",
       "    <tr>\n",
       "      <th>13</th>\n",
       "      <td>532</td>\n",
       "      <td>1953</td>\n",
       "      <td>Friends &amp; Lovers 1999</td>\n",
       "      <td>3.8</td>\n",
       "      <td>5.0</td>\n",
       "    </tr>\n",
       "    <tr>\n",
       "      <th>14</th>\n",
       "      <td>134</td>\n",
       "      <td>1219</td>\n",
       "      <td>Seven Years in Tibet 1997</td>\n",
       "      <td>2.9</td>\n",
       "      <td>4.0</td>\n",
       "    </tr>\n",
       "    <tr>\n",
       "      <th>15</th>\n",
       "      <td>447</td>\n",
       "      <td>1719</td>\n",
       "      <td>2010: The Year We Make Contact 1984</td>\n",
       "      <td>2.9</td>\n",
       "      <td>3.0</td>\n",
       "    </tr>\n",
       "    <tr>\n",
       "      <th>16</th>\n",
       "      <td>69</td>\n",
       "      <td>1959</td>\n",
       "      <td>Pushing Tin 1999</td>\n",
       "      <td>4.2</td>\n",
       "      <td>3.5</td>\n",
       "    </tr>\n",
       "    <tr>\n",
       "      <th>17</th>\n",
       "      <td>231</td>\n",
       "      <td>1111</td>\n",
       "      <td>Kolya Kolja 1996</td>\n",
       "      <td>3.3</td>\n",
       "      <td>3.5</td>\n",
       "    </tr>\n",
       "    <tr>\n",
       "      <th>18</th>\n",
       "      <td>104</td>\n",
       "      <td>726</td>\n",
       "      <td>To Be or Not to Be 1942</td>\n",
       "      <td>4.1</td>\n",
       "      <td>4.5</td>\n",
       "    </tr>\n",
       "    <tr>\n",
       "      <th>19</th>\n",
       "      <td>609</td>\n",
       "      <td>804</td>\n",
       "      <td>Normal Life 1996</td>\n",
       "      <td>3.6</td>\n",
       "      <td>4.0</td>\n",
       "    </tr>\n",
       "  </tbody>\n",
       "</table>\n",
       "</div>"
      ],
      "text/plain": [
       "    userId  movieId                                              title  \\\n",
       "0      306       31              Twelve Monkeys a.k.a. 12 Monkeys 1995   \n",
       "1      572     1119                                Absolute Power 1997   \n",
       "2      495     1957                                     SLC Punk! 1998   \n",
       "3      381     1037  Vampire in Venice Nosferatu a Venezia Nosferat...   \n",
       "4      317      907                           Clockwork Orange, A 1971   \n",
       "5      225       82                           Vampire in Brooklyn 1995   \n",
       "6      379      605                                    Stalingrad 1993   \n",
       "7      379      880                                  Delicatessen 1991   \n",
       "8      224      293                                    Underneath 1995   \n",
       "9      352       19                                   Money Train 1995   \n",
       "10     171      241                                     My Family 1995   \n",
       "11     327       16                         Sense and Sensibility 1995   \n",
       "12     482      679                       For Whom the Bell Tolls 1943   \n",
       "13     532     1953                              Friends & Lovers 1999   \n",
       "14     134     1219                          Seven Years in Tibet 1997   \n",
       "15     447     1719                2010: The Year We Make Contact 1984   \n",
       "16      69     1959                                   Pushing Tin 1999   \n",
       "17     231     1111                                   Kolya Kolja 1996   \n",
       "18     104      726                            To Be or Not to Be 1942   \n",
       "19     609      804                                   Normal Life 1996   \n",
       "\n",
       "    predicted_rating  actual_rating  \n",
       "0                3.2            3.0  \n",
       "1                4.3            5.0  \n",
       "2                3.6            3.5  \n",
       "3                3.9            4.0  \n",
       "4                4.1            5.0  \n",
       "5                4.2            4.5  \n",
       "6                4.8            3.0  \n",
       "7                4.7            3.0  \n",
       "8                4.1            4.0  \n",
       "9                3.9            4.0  \n",
       "10               4.5            3.0  \n",
       "11               3.5            5.0  \n",
       "12               3.8            4.0  \n",
       "13               3.8            5.0  \n",
       "14               2.9            4.0  \n",
       "15               2.9            3.0  \n",
       "16               4.2            3.5  \n",
       "17               3.3            3.5  \n",
       "18               4.1            4.5  \n",
       "19               3.6            4.0  "
      ]
     },
     "execution_count": 108,
     "metadata": {},
     "output_type": "execute_result"
    }
   ],
   "source": [
    "# show comparison on ratings\n",
    "results = pd.DataFrame({\n",
    "    'userId': df_test['userId'].values,\n",
    "    'movieId': df_test['movieId'].values,\n",
    "    'title':[movies_df['title'].iloc[i] for i in df_test['movieId']],\n",
    "    'predicted_rating': np.round(y_pred, 1),\n",
    "    'actual_rating': y_true\n",
    "})\n",
    "\n",
    "results.head(20)"
   ]
  },
  {
   "cell_type": "code",
   "execution_count": null,
   "id": "a9d4f0d0-b080-4f7d-8969-c39c9af0a443",
   "metadata": {},
   "outputs": [],
   "source": []
  }
 ],
 "metadata": {
  "kernelspec": {
   "display_name": "Python (MEC Mini-Projects)",
   "language": "python",
   "name": "mec-miniprojects"
  },
  "language_info": {
   "codemirror_mode": {
    "name": "ipython",
    "version": 3
   },
   "file_extension": ".py",
   "mimetype": "text/x-python",
   "name": "python",
   "nbconvert_exporter": "python",
   "pygments_lexer": "ipython3",
   "version": "3.7.13"
  }
 },
 "nbformat": 4,
 "nbformat_minor": 5
}
